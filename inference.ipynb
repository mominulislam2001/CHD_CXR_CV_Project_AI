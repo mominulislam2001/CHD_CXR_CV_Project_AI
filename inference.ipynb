{
 "cells": [
  {
   "cell_type": "code",
   "execution_count": 6,
   "metadata": {},
   "outputs": [],
   "source": [
    "import torch\n",
    "import torch.nn as nn\n",
    "import torchvision.transforms as transforms\n",
    "from torchvision import models\n",
    "import time\n",
    "import numpy as np\n",
    "from PIL import Image\n",
    "import os"
   ]
  },
  {
   "cell_type": "code",
   "execution_count": 7,
   "metadata": {},
   "outputs": [],
   "source": [
    "\n",
    "def load_model(model_path):\n",
    "    \"\"\"Load the trained MobileNet V2 model\"\"\"\n",
    "    model = models.mobilenet_v2(pretrained=False)\n",
    "    model.classifier[1] = nn.Linear(model.classifier[1].in_features, 4)\n",
    "    \n",
    "    checkpoint = torch.load(model_path, map_location='cpu')\n",
    "    model.load_state_dict(checkpoint)\n",
    "    model.eval()\n",
    "    return model\n",
    "\n",
    "\n",
    "def preprocess_image(image_path):\n",
    "    \"\"\"Preprocess image for inference\"\"\"\n",
    "    transform = transforms.Compose([\n",
    "        transforms.Resize((224, 224)),\n",
    "        transforms.ToTensor(),\n",
    "        transforms.Normalize(mean=[0.5], \n",
    "                           std=[0.5])\n",
    "    ])\n",
    "    \n",
    "    image = Image.open(image_path).convert('RGB')\n",
    "    image = transform(image)\n",
    "    return image.unsqueeze(0) "
   ]
  },
  {
   "cell_type": "code",
   "execution_count": 8,
   "metadata": {},
   "outputs": [],
   "source": [
    "def measure_inference_time(model, input_tensor, num_runs=100):\n",
    "    \"\"\"Measure inference time over multiple runs\"\"\"\n",
    "    model.eval()\n",
    "    \n",
    "    # Warm up the model\n",
    "    with torch.no_grad():\n",
    "        for _ in range(10):\n",
    "            _ = model(input_tensor)\n",
    "    \n",
    "    # Measure inference time\n",
    "    times = []\n",
    "    with torch.no_grad():\n",
    "        for _ in range(num_runs):\n",
    "            start_time = time.time()\n",
    "            output = model(input_tensor)\n",
    "            end_time = time.time()\n",
    "            times.append(end_time - start_time)\n",
    "    \n",
    "    return times\n",
    "\n"
   ]
  },
  {
   "cell_type": "code",
   "execution_count": 9,
   "metadata": {},
   "outputs": [
    {
     "name": "stdout",
     "output_type": "stream",
     "text": [
      "Loading model...\n",
      "Model loaded successfully!\n",
      "Warming up model...\n"
     ]
    },
    {
     "name": "stderr",
     "output_type": "stream",
     "text": [
      "/media/ayan/Ayan/conda-ins/envs/myenv/lib/python3.9/site-packages/torchvision/models/_utils.py:208: UserWarning: The parameter 'pretrained' is deprecated since 0.13 and may be removed in the future, please use 'weights' instead.\n",
      "  warnings.warn(\n",
      "/media/ayan/Ayan/conda-ins/envs/myenv/lib/python3.9/site-packages/torchvision/models/_utils.py:223: UserWarning: Arguments other than a weight enum or `None` for 'weights' are deprecated since 0.13 and may be removed in the future. The current behavior is equivalent to passing `weights=None`.\n",
      "  warnings.warn(msg)\n",
      "/tmp/ipykernel_423396/220357931.py:25: FutureWarning: You are using `torch.load` with `weights_only=False` (the current default value), which uses the default pickle module implicitly. It is possible to construct malicious pickle data which will execute arbitrary code during unpickling (See https://github.com/pytorch/pytorch/blob/main/SECURITY.md#untrusted-models for more details). In a future release, the default value for `weights_only` will be flipped to `True`. This limits the functions that could be executed during unpickling. Arbitrary objects will no longer be allowed to be loaded via this mode unless they are explicitly allowlisted by the user via `torch.serialization.add_safe_globals`. We recommend you start setting `weights_only=True` for any use case where you don't have full control of the loaded file. Please open an issue on GitHub for any issues related to this experimental feature.\n",
      "  checkpoint = torch.load(model_path, map_location='cpu')\n"
     ]
    },
    {
     "name": "stdout",
     "output_type": "stream",
     "text": [
      "Measuring inference time...\n",
      "\n",
      "Inference Time Statistics:\n",
      "Mean: 0.0165 seconds\n",
      "Std: 0.0022 seconds\n",
      "Min: 0.0115 seconds\n",
      "Max: 0.0227 seconds\n",
      "FPS: 60.71\n"
     ]
    }
   ],
   "source": [
    "import torch\n",
    "import torch.nn as nn\n",
    "import torchvision.transforms as transforms\n",
    "from torchvision import models\n",
    "import time\n",
    "import numpy as np\n",
    "from PIL import Image\n",
    "import os\n",
    "\n",
    "# Model path\n",
    "model_path = 'outputs/checkpoints/mobilenet_v2_epoch_29.pth'\n",
    "\n",
    "# Check if model exists\n",
    "if not os.path.exists(model_path):\n",
    "    print(f\"Model not found at {model_path}\")\n",
    "    exit()\n",
    "\n",
    "# Load the trained model\n",
    "print(\"Loading model...\")\n",
    "model = models.mobilenet_v2(pretrained=False)\n",
    "# Modify the final layer for your classification task (assuming 4 classes)\n",
    "model.classifier[1] = nn.Linear(model.classifier[1].in_features, 4)\n",
    "\n",
    "# Load the trained weights\n",
    "checkpoint = torch.load(model_path, map_location='cpu')\n",
    "model.load_state_dict(checkpoint)\n",
    "model.eval()\n",
    "print(\"Model loaded successfully!\")\n",
    "\n",
    "# Create a dummy input tensor for testing\n",
    "dummy_input = torch.randn(1, 3, 224, 224)\n",
    "\n",
    "# Warm up the model\n",
    "print(\"Warming up model...\")\n",
    "with torch.no_grad():\n",
    "    for _ in range(10):\n",
    "        _ = model(dummy_input)\n",
    "\n",
    "# Measure inference time\n",
    "print(\"Measuring inference time...\")\n",
    "times = []\n",
    "with torch.no_grad():\n",
    "    for _ in range(100):\n",
    "        start_time = time.time()\n",
    "        output = model(dummy_input)\n",
    "        end_time = time.time()\n",
    "        times.append(end_time - start_time)\n",
    "\n",
    "# Calculate statistics\n",
    "mean_time = np.mean(times)\n",
    "std_time = np.std(times)\n",
    "min_time = np.min(times)\n",
    "max_time = np.max(times)\n",
    "\n",
    "print(f\"\\nInference Time Statistics:\")\n",
    "print(f\"Mean: {mean_time:.4f} seconds\")\n",
    "print(f\"Std: {std_time:.4f} seconds\")\n",
    "print(f\"Min: {min_time:.4f} seconds\")\n",
    "print(f\"Max: {max_time:.4f} seconds\")\n",
    "print(f\"FPS: {1/mean_time:.2f}\")"
   ]
  },
  {
   "cell_type": "code",
   "execution_count": null,
   "metadata": {},
   "outputs": [],
   "source": []
  }
 ],
 "metadata": {
  "kernelspec": {
   "display_name": "myenv",
   "language": "python",
   "name": "python3"
  },
  "language_info": {
   "codemirror_mode": {
    "name": "ipython",
    "version": 3
   },
   "file_extension": ".py",
   "mimetype": "text/x-python",
   "name": "python",
   "nbconvert_exporter": "python",
   "pygments_lexer": "ipython3",
   "version": "3.9.21"
  }
 },
 "nbformat": 4,
 "nbformat_minor": 2
}
